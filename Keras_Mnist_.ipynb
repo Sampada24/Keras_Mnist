{
  "nbformat": 4,
  "nbformat_minor": 0,
  "metadata": {
    "colab": {
      "name": "Keras_Mnist .ipynb",
      "provenance": [],
      "collapsed_sections": []
    },
    "language_info": {
      "codemirror_mode": {
        "name": "ipython",
        "version": 3
      },
      "file_extension": ".py",
      "mimetype": "text/x-python",
      "name": "python",
      "nbconvert_exporter": "python",
      "pygments_lexer": "ipython3",
      "version": "3.7.3"
    },
    "kernelspec": {
      "display_name": "Python 3",
      "language": "python",
      "name": "python3"
    },
    "accelerator": "GPU"
  },
  "cells": [
    {
      "cell_type": "code",
      "metadata": {
        "colab_type": "code",
        "id": "TPcE-cf03x1G",
        "outputId": "e1f0900b-8e37-4956-a3c7-d49f7fbfa431",
        "colab": {
          "base_uri": "https://localhost:8080/",
          "height": 34
        }
      },
      "source": [
        "from __future__ import print_function\n",
        "import keras\n",
        "from keras.datasets import mnist\n",
        "from keras.models import Sequential\n",
        "from keras.layers import Dense, Dropout, Flatten, Activation\n",
        "from keras.layers import Conv2D, MaxPooling2D\n",
        "from keras import backend as K"
      ],
      "execution_count": 0,
      "outputs": [
        {
          "output_type": "stream",
          "text": [
            "Using TensorFlow backend.\n"
          ],
          "name": "stderr"
        }
      ]
    },
    {
      "cell_type": "code",
      "metadata": {
        "colab_type": "code",
        "id": "vk-aKTUq37Mp",
        "outputId": "431b8f6b-c9bd-46e6-c318-282cc4679796",
        "colab": {
          "base_uri": "https://localhost:8080/",
          "height": 51
        }
      },
      "source": [
        "(x_train, y_train), (x_test, y_test) = mnist.load_data()"
      ],
      "execution_count": 0,
      "outputs": [
        {
          "output_type": "stream",
          "text": [
            "Downloading data from https://s3.amazonaws.com/img-datasets/mnist.npz\n",
            "11493376/11490434 [==============================] - 2s 0us/step\n"
          ],
          "name": "stdout"
        }
      ]
    },
    {
      "cell_type": "code",
      "metadata": {
        "colab_type": "code",
        "id": "1Q22VwhX38Uo",
        "colab": {}
      },
      "source": [
        "batch_size = 128\n",
        "num_classes = 10\n",
        "epochs = 25"
      ],
      "execution_count": 0,
      "outputs": []
    },
    {
      "cell_type": "code",
      "metadata": {
        "colab_type": "code",
        "id": "3pmTy4WP39hn",
        "colab": {}
      },
      "source": [
        "img_rows, img_cols = 28, 28"
      ],
      "execution_count": 0,
      "outputs": []
    },
    {
      "cell_type": "code",
      "metadata": {
        "colab_type": "code",
        "id": "vKyX4Tya3-Zv",
        "colab": {}
      },
      "source": [
        "if K.image_data_format() == 'channels_first':\n",
        "    x_train = x_train.reshape(x_train.shape[0], 1, img_rows, img_cols)\n",
        "    x_test = x_test.reshape(x_test.shape[0], 1, img_rows, img_cols)\n",
        "    input_shape = (1, img_rows, img_cols)\n",
        "else:\n",
        "    x_train = x_train.reshape(x_train.shape[0], img_rows, img_cols, 1)\n",
        "    x_test = x_test.reshape(x_test.shape[0], img_rows, img_cols, 1)\n",
        "input_shape = (img_rows, img_cols, 1)"
      ],
      "execution_count": 0,
      "outputs": []
    },
    {
      "cell_type": "code",
      "metadata": {
        "colab_type": "code",
        "id": "JHL9_0sE3_1Q",
        "outputId": "066db88e-73a3-495d-91e8-2f24685f1bde",
        "colab": {
          "base_uri": "https://localhost:8080/",
          "height": 68
        }
      },
      "source": [
        "x_train = x_train.astype('float32')\n",
        "x_test = x_test.astype('float32')\n",
        "x_train /= 255\n",
        "x_test /= 255\n",
        "print('x_train shape:', x_train.shape)\n",
        "print(x_train.shape[0], 'train samples')\n",
        "print(x_test.shape[0], 'test samples')"
      ],
      "execution_count": 0,
      "outputs": [
        {
          "output_type": "stream",
          "text": [
            "x_train shape: (60000, 28, 28, 1)\n",
            "60000 train samples\n",
            "10000 test samples\n"
          ],
          "name": "stdout"
        }
      ]
    },
    {
      "cell_type": "code",
      "metadata": {
        "colab_type": "code",
        "id": "tczq1zJJ4Bd0",
        "colab": {}
      },
      "source": [
        "# One hot encoding\n",
        "y_train = keras.utils.to_categorical(y_train, num_classes)\n",
        "y_test = keras.utils.to_categorical(y_test, num_classes)"
      ],
      "execution_count": 0,
      "outputs": []
    },
    {
      "cell_type": "code",
      "metadata": {
        "colab_type": "code",
        "id": "uUShWbV24C4R",
        "outputId": "83ed973b-7fcc-4a22-d59c-e6b4fdceba90",
        "colab": {
          "base_uri": "https://localhost:8080/",
          "height": 88
        }
      },
      "source": [
        "model = Sequential()"
      ],
      "execution_count": 0,
      "outputs": [
        {
          "output_type": "stream",
          "text": [
            "WARNING: Logging before flag parsing goes to stderr.\n",
            "W0716 05:28:24.114256 139743218358144 deprecation_wrapper.py:119] From /usr/local/lib/python3.6/dist-packages/keras/backend/tensorflow_backend.py:74: The name tf.get_default_graph is deprecated. Please use tf.compat.v1.get_default_graph instead.\n",
            "\n"
          ],
          "name": "stderr"
        }
      ]
    },
    {
      "cell_type": "code",
      "metadata": {
        "colab_type": "code",
        "id": "bEzSoYEB4EOl",
        "colab": {}
      },
      "source": [
        "import tensorflow as tf "
      ],
      "execution_count": 0,
      "outputs": []
    },
    {
      "cell_type": "code",
      "metadata": {
        "colab_type": "code",
        "id": "p5P1W5284GnQ",
        "outputId": "348fd633-8099-488f-d039-f877934689b4",
        "colab": {
          "base_uri": "https://localhost:8080/",
          "height": 258
        }
      },
      "source": [
        "model.add(Conv2D(64, kernel_size=(3, 3), activation='relu', input_shape=input_shape))\n",
        "model.add(MaxPooling2D(pool_size=(2, 2)))\n",
        "model.add(Conv2D(64, (3, 3), activation='relu'))\n",
        "model.add(MaxPooling2D(pool_size=(2, 2)))\n",
        "\n",
        "model.add(Flatten())\n",
        "\n",
        "model.add(Dense(128, activation='relu'))\n",
        "model.add(Dropout(0.5))\n",
        "\n",
        "model.add(Dense(128, activation='relu'))\n",
        "model.add(Dropout(0.5))\n",
        "\n",
        "model.add(Dense(num_classes, activation=Activation(tf.nn.softmax)))"
      ],
      "execution_count": 0,
      "outputs": [
        {
          "output_type": "stream",
          "text": [
            "W0716 05:28:24.178368 139743218358144 deprecation_wrapper.py:119] From /usr/local/lib/python3.6/dist-packages/keras/backend/tensorflow_backend.py:517: The name tf.placeholder is deprecated. Please use tf.compat.v1.placeholder instead.\n",
            "\n",
            "W0716 05:28:24.189656 139743218358144 deprecation_wrapper.py:119] From /usr/local/lib/python3.6/dist-packages/keras/backend/tensorflow_backend.py:4138: The name tf.random_uniform is deprecated. Please use tf.random.uniform instead.\n",
            "\n",
            "W0716 05:28:24.224179 139743218358144 deprecation_wrapper.py:119] From /usr/local/lib/python3.6/dist-packages/keras/backend/tensorflow_backend.py:3976: The name tf.nn.max_pool is deprecated. Please use tf.nn.max_pool2d instead.\n",
            "\n",
            "W0716 05:28:24.271934 139743218358144 deprecation_wrapper.py:119] From /usr/local/lib/python3.6/dist-packages/keras/backend/tensorflow_backend.py:133: The name tf.placeholder_with_default is deprecated. Please use tf.compat.v1.placeholder_with_default instead.\n",
            "\n",
            "W0716 05:28:24.285174 139743218358144 deprecation.py:506] From /usr/local/lib/python3.6/dist-packages/keras/backend/tensorflow_backend.py:3445: calling dropout (from tensorflow.python.ops.nn_ops) with keep_prob is deprecated and will be removed in a future version.\n",
            "Instructions for updating:\n",
            "Please use `rate` instead of `keep_prob`. Rate should be set to `rate = 1 - keep_prob`.\n",
            "/usr/local/lib/python3.6/dist-packages/keras/activations.py:211: UserWarning: Do not pass a layer instance (such as Activation) as the activation argument of another layer. Instead, advanced activation layers should be used just like any other layer in a model.\n",
            "  identifier=identifier.__class__.__name__))\n"
          ],
          "name": "stderr"
        }
      ]
    },
    {
      "cell_type": "code",
      "metadata": {
        "colab_type": "code",
        "id": "xf9mmKWK4QMh",
        "outputId": "c49361ed-b0b9-49de-d402-89eb27a3a182",
        "colab": {
          "base_uri": "https://localhost:8080/",
          "height": 105
        }
      },
      "source": [
        "model.compile(loss=keras.losses.categorical_crossentropy,\n",
        "              optimizer=keras.optimizers.Adadelta(),\n",
        "metrics=['accuracy'])"
      ],
      "execution_count": 0,
      "outputs": [
        {
          "output_type": "stream",
          "text": [
            "W0716 05:28:24.375981 139743218358144 deprecation_wrapper.py:119] From /usr/local/lib/python3.6/dist-packages/keras/optimizers.py:790: The name tf.train.Optimizer is deprecated. Please use tf.compat.v1.train.Optimizer instead.\n",
            "\n",
            "W0716 05:28:24.385650 139743218358144 deprecation_wrapper.py:119] From /usr/local/lib/python3.6/dist-packages/keras/backend/tensorflow_backend.py:3295: The name tf.log is deprecated. Please use tf.math.log instead.\n",
            "\n"
          ],
          "name": "stderr"
        }
      ]
    },
    {
      "cell_type": "code",
      "metadata": {
        "colab_type": "code",
        "id": "hRMGGn5g4RdW",
        "outputId": "8e73808e-0465-4b40-d1f9-74c2a88d2cfb",
        "colab": {
          "base_uri": "https://localhost:8080/",
          "height": 972
        }
      },
      "source": [
        "model.fit(x_train, y_train,\n",
        "          batch_size=batch_size,\n",
        "          epochs=epochs,\n",
        "          verbose=1,\n",
        "validation_data=(x_test, y_test))"
      ],
      "execution_count": 0,
      "outputs": [
        {
          "output_type": "stream",
          "text": [
            "W0716 05:28:24.541134 139743218358144 deprecation.py:323] From /usr/local/lib/python3.6/dist-packages/tensorflow/python/ops/math_grad.py:1250: add_dispatch_support.<locals>.wrapper (from tensorflow.python.ops.array_ops) is deprecated and will be removed in a future version.\n",
            "Instructions for updating:\n",
            "Use tf.where in 2.0, which has the same broadcast rule as np.where\n"
          ],
          "name": "stderr"
        },
        {
          "output_type": "stream",
          "text": [
            "Train on 60000 samples, validate on 10000 samples\n",
            "Epoch 1/25\n",
            "60000/60000 [==============================] - 13s 210us/step - loss: 0.4166 - acc: 0.8683 - val_loss: 0.0701 - val_acc: 0.9797\n",
            "Epoch 2/25\n",
            "60000/60000 [==============================] - 7s 109us/step - loss: 0.1217 - acc: 0.9669 - val_loss: 0.0438 - val_acc: 0.9859\n",
            "Epoch 3/25\n",
            "60000/60000 [==============================] - 7s 109us/step - loss: 0.0863 - acc: 0.9768 - val_loss: 0.0419 - val_acc: 0.9867\n",
            "Epoch 4/25\n",
            "60000/60000 [==============================] - 7s 109us/step - loss: 0.0714 - acc: 0.9808 - val_loss: 0.0386 - val_acc: 0.9893\n",
            "Epoch 5/25\n",
            "60000/60000 [==============================] - 7s 111us/step - loss: 0.0600 - acc: 0.9844 - val_loss: 0.0320 - val_acc: 0.9902\n",
            "Epoch 6/25\n",
            "60000/60000 [==============================] - 7s 112us/step - loss: 0.0506 - acc: 0.9862 - val_loss: 0.0344 - val_acc: 0.9900\n",
            "Epoch 7/25\n",
            "60000/60000 [==============================] - 6s 108us/step - loss: 0.0488 - acc: 0.9870 - val_loss: 0.0368 - val_acc: 0.9898\n",
            "Epoch 8/25\n",
            "60000/60000 [==============================] - 7s 109us/step - loss: 0.0403 - acc: 0.9890 - val_loss: 0.0356 - val_acc: 0.9899\n",
            "Epoch 9/25\n",
            "60000/60000 [==============================] - 7s 109us/step - loss: 0.0388 - acc: 0.9900 - val_loss: 0.0362 - val_acc: 0.9900\n",
            "Epoch 10/25\n",
            "60000/60000 [==============================] - 7s 109us/step - loss: 0.0362 - acc: 0.9902 - val_loss: 0.0295 - val_acc: 0.9930\n",
            "Epoch 11/25\n",
            "60000/60000 [==============================] - 6s 108us/step - loss: 0.0321 - acc: 0.9912 - val_loss: 0.0329 - val_acc: 0.9916\n",
            "Epoch 12/25\n",
            "60000/60000 [==============================] - 7s 109us/step - loss: 0.0308 - acc: 0.9917 - val_loss: 0.0297 - val_acc: 0.9927\n",
            "Epoch 13/25\n",
            "60000/60000 [==============================] - 7s 111us/step - loss: 0.0286 - acc: 0.9920 - val_loss: 0.0308 - val_acc: 0.9924\n",
            "Epoch 14/25\n",
            "60000/60000 [==============================] - 7s 108us/step - loss: 0.0277 - acc: 0.9925 - val_loss: 0.0276 - val_acc: 0.9931\n",
            "Epoch 15/25\n",
            "60000/60000 [==============================] - 6s 108us/step - loss: 0.0243 - acc: 0.9933 - val_loss: 0.0284 - val_acc: 0.9929\n",
            "Epoch 16/25\n",
            "60000/60000 [==============================] - 7s 109us/step - loss: 0.0235 - acc: 0.9933 - val_loss: 0.0311 - val_acc: 0.9919\n",
            "Epoch 17/25\n",
            "60000/60000 [==============================] - 7s 109us/step - loss: 0.0227 - acc: 0.9936 - val_loss: 0.0319 - val_acc: 0.9931\n",
            "Epoch 18/25\n",
            "60000/60000 [==============================] - 7s 109us/step - loss: 0.0215 - acc: 0.9940 - val_loss: 0.0337 - val_acc: 0.9925\n",
            "Epoch 19/25\n",
            "60000/60000 [==============================] - 7s 109us/step - loss: 0.0208 - acc: 0.9943 - val_loss: 0.0285 - val_acc: 0.9936\n",
            "Epoch 20/25\n",
            "60000/60000 [==============================] - 7s 109us/step - loss: 0.0192 - acc: 0.9946 - val_loss: 0.0324 - val_acc: 0.9935\n",
            "Epoch 21/25\n",
            "60000/60000 [==============================] - 7s 108us/step - loss: 0.0185 - acc: 0.9945 - val_loss: 0.0319 - val_acc: 0.9930\n",
            "Epoch 22/25\n",
            "60000/60000 [==============================] - 6s 108us/step - loss: 0.0181 - acc: 0.9948 - val_loss: 0.0352 - val_acc: 0.9916\n",
            "Epoch 23/25\n",
            "60000/60000 [==============================] - 6s 108us/step - loss: 0.0166 - acc: 0.9956 - val_loss: 0.0341 - val_acc: 0.9916\n",
            "Epoch 24/25\n",
            "60000/60000 [==============================] - 6s 108us/step - loss: 0.0165 - acc: 0.9952 - val_loss: 0.0338 - val_acc: 0.9927\n",
            "Epoch 25/25\n",
            "60000/60000 [==============================] - 7s 108us/step - loss: 0.0166 - acc: 0.9951 - val_loss: 0.0345 - val_acc: 0.9926\n"
          ],
          "name": "stdout"
        },
        {
          "output_type": "execute_result",
          "data": {
            "text/plain": [
              "<keras.callbacks.History at 0x7f183563aa20>"
            ]
          },
          "metadata": {
            "tags": []
          },
          "execution_count": 12
        }
      ]
    },
    {
      "cell_type": "code",
      "metadata": {
        "colab_type": "code",
        "id": "R6U6JC6Z4Scj",
        "outputId": "5411b0ab-ae07-472d-aeda-544afb999417",
        "colab": {
          "base_uri": "https://localhost:8080/",
          "height": 51
        }
      },
      "source": [
        "score = model.evaluate(x_test, y_test, verbose=0)\n",
        "print('Test loss:', score[0])\n",
        "print('Test accuracy:', score[1])"
      ],
      "execution_count": 0,
      "outputs": [
        {
          "output_type": "stream",
          "text": [
            "Test loss: 0.03449652129506644\n",
            "Test accuracy: 0.9926\n"
          ],
          "name": "stdout"
        }
      ]
    },
    {
      "cell_type": "code",
      "metadata": {
        "id": "YkeFbyhMQK39",
        "colab_type": "code",
        "colab": {}
      },
      "source": [
        ""
      ],
      "execution_count": 0,
      "outputs": []
    }
  ]
}